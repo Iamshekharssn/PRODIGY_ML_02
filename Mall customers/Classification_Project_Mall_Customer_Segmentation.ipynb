{
  "metadata": {
    "kaggle": {
      "accelerator": "gpu",
      "dataSources": [
        {
          "sourceId": 74935,
          "sourceType": "datasetVersion",
          "datasetId": 42674
        }
      ],
      "isInternetEnabled": true,
      "language": "python",
      "sourceType": "notebook",
      "isGpuEnabled": true
    },
    "kernelspec": {
      "display_name": "Python 3 (ipykernel)",
      "language": "python",
      "name": "python3"
    },
    "language_info": {
      "codemirror_mode": {
        "name": "ipython",
        "version": 3
      },
      "file_extension": ".py",
      "mimetype": "text/x-python",
      "name": "python",
      "nbconvert_exporter": "python",
      "pygments_lexer": "ipython3",
      "version": "3.11.7"
    },
    "papermill": {
      "default_parameters": {},
      "duration": 458.059009,
      "end_time": "2024-05-17T21:25:10.745518",
      "environment_variables": {},
      "exception": null,
      "input_path": "__notebook__.ipynb",
      "output_path": "__notebook__.ipynb",
      "parameters": {},
      "start_time": "2024-05-17T21:17:32.686509",
      "version": "2.5.0"
    },
    "colab": {
      "name": "Classification Project -Mall Customer Segmentation",
      "provenance": []
    }
  },
  "nbformat_minor": 0,
  "nbformat": 4,
  "cells": [
    {
      "source": [
        "\n",
        "# IMPORTANT: RUN THIS CELL IN ORDER TO IMPORT YOUR KAGGLE DATA SOURCES\n",
        "# TO THE CORRECT LOCATION (/kaggle/input) IN YOUR NOTEBOOK,\n",
        "# THEN FEEL FREE TO DELETE THIS CELL.\n",
        "# NOTE: THIS NOTEBOOK ENVIRONMENT DIFFERS FROM KAGGLE'S PYTHON\n",
        "# ENVIRONMENT SO THERE MAY BE MISSING LIBRARIES USED BY YOUR\n",
        "# NOTEBOOK.\n",
        "\n",
        "import os\n",
        "import sys\n",
        "from tempfile import NamedTemporaryFile\n",
        "from urllib.request import urlopen\n",
        "from urllib.parse import unquote, urlparse\n",
        "from urllib.error import HTTPError\n",
        "from zipfile import ZipFile\n",
        "import tarfile\n",
        "import shutil\n",
        "\n",
        "CHUNK_SIZE = 40960\n",
        "DATA_SOURCE_MAPPING = 'customer-segmentation-tutorial-in-python:https%3A%2F%2Fstorage.googleapis.com%2Fkaggle-data-sets%2F42674%2F74935%2Fbundle%2Farchive.zip%3FX-Goog-Algorithm%3DGOOG4-RSA-SHA256%26X-Goog-Credential%3Dgcp-kaggle-com%2540kaggle-161607.iam.gserviceaccount.com%252F20240526%252Fauto%252Fstorage%252Fgoog4_request%26X-Goog-Date%3D20240526T202633Z%26X-Goog-Expires%3D259200%26X-Goog-SignedHeaders%3Dhost%26X-Goog-Signature%3D3b03ca84987ad473fe60c90cf037b54603ee6afc26487439c654b0d160a87b059b856f616098bfb56812641fb02a0cb5acc34499f291c43cd8d5c6b65c41f61fc245278eb57bcaab0bff240d22d18b1c53015693e0df5f902cc9c8e88c6134135d10513a5166e6cfcd06666903aa8e18c666b2df1b0f85b5eca6a2ae57a9330cbfa0e3024adc6588102178716bdfda286578facc755b781b61d889a257c8f112c53969df1bf9512b4f305e95ae8f29a31c74c21e492564f941676403debbf10d79a8e320511797cbf845785bb4c5c6c6cf9a8920cd6b4de07dbb6121189103f05b720076cbd07347079f47a1af158a2d2a56c416913f38040d3515e998df8212'\n",
        "\n",
        "KAGGLE_INPUT_PATH='/kaggle/input'\n",
        "KAGGLE_WORKING_PATH='/kaggle/working'\n",
        "KAGGLE_SYMLINK='kaggle'\n",
        "\n",
        "!umount /kaggle/input/ 2> /dev/null\n",
        "shutil.rmtree('/kaggle/input', ignore_errors=True)\n",
        "os.makedirs(KAGGLE_INPUT_PATH, 0o777, exist_ok=True)\n",
        "os.makedirs(KAGGLE_WORKING_PATH, 0o777, exist_ok=True)\n",
        "\n",
        "try:\n",
        "  os.symlink(KAGGLE_INPUT_PATH, os.path.join(\"..\", 'input'), target_is_directory=True)\n",
        "except FileExistsError:\n",
        "  pass\n",
        "try:\n",
        "  os.symlink(KAGGLE_WORKING_PATH, os.path.join(\"..\", 'working'), target_is_directory=True)\n",
        "except FileExistsError:\n",
        "  pass\n",
        "\n",
        "for data_source_mapping in DATA_SOURCE_MAPPING.split(','):\n",
        "    directory, download_url_encoded = data_source_mapping.split(':')\n",
        "    download_url = unquote(download_url_encoded)\n",
        "    filename = urlparse(download_url).path\n",
        "    destination_path = os.path.join(KAGGLE_INPUT_PATH, directory)\n",
        "    try:\n",
        "        with urlopen(download_url) as fileres, NamedTemporaryFile() as tfile:\n",
        "            total_length = fileres.headers['content-length']\n",
        "            print(f'Downloading {directory}, {total_length} bytes compressed')\n",
        "            dl = 0\n",
        "            data = fileres.read(CHUNK_SIZE)\n",
        "            while len(data) > 0:\n",
        "                dl += len(data)\n",
        "                tfile.write(data)\n",
        "                done = int(50 * dl / int(total_length))\n",
        "                sys.stdout.write(f\"\\r[{'=' * done}{' ' * (50-done)}] {dl} bytes downloaded\")\n",
        "                sys.stdout.flush()\n",
        "                data = fileres.read(CHUNK_SIZE)\n",
        "            if filename.endswith('.zip'):\n",
        "              with ZipFile(tfile) as zfile:\n",
        "                zfile.extractall(destination_path)\n",
        "            else:\n",
        "              with tarfile.open(tfile.name) as tarfile:\n",
        "                tarfile.extractall(destination_path)\n",
        "            print(f'\\nDownloaded and uncompressed: {directory}')\n",
        "    except HTTPError as e:\n",
        "        print(f'Failed to load (likely expired) {download_url} to path {destination_path}')\n",
        "        continue\n",
        "    except OSError as e:\n",
        "        print(f'Failed to load {download_url} to path {destination_path}')\n",
        "        continue\n",
        "\n",
        "print('Data source import complete.')\n"
      ],
      "metadata": {
        "id": "4hrnOh6FlWri"
      },
      "cell_type": "code",
      "outputs": [],
      "execution_count": null
    },
    {
      "cell_type": "markdown",
      "source": [
        "# **Import Libraries :** #"
      ],
      "metadata": {
        "papermill": {
          "duration": 0.013905,
          "end_time": "2024-05-17T21:17:35.447117",
          "exception": false,
          "start_time": "2024-05-17T21:17:35.433212",
          "status": "completed"
        },
        "tags": [],
        "id": "MciwYM71lWrn"
      }
    },
    {
      "cell_type": "code",
      "source": [
        "import warnings\n",
        "warnings.filterwarnings(\"ignore\")\n",
        "\n",
        "import numpy as np\n",
        "import pandas as pd\n",
        "import matplotlib.pyplot as plt\n",
        "import seaborn as sns\n",
        "from sklearn.preprocessing import MaxAbsScaler\n",
        "from sklearn.model_selection import train_test_split\n",
        "from sklearn.model_selection import GridSearchCV\n",
        "from sklearn.tree import DecisionTreeClassifier\n",
        "from catboost import CatBoostClassifier ,Pool\n",
        "from sklearn.metrics import classification_report\n",
        "from sklearn.metrics import accuracy_score\n",
        "from sklearn.metrics import confusion_matrix\n",
        "import joblib"
      ],
      "metadata": {
        "execution": {
          "iopub.execute_input": "2024-05-17T21:17:35.475605Z",
          "iopub.status.busy": "2024-05-17T21:17:35.474882Z",
          "iopub.status.idle": "2024-05-17T21:17:37.904513Z",
          "shell.execute_reply": "2024-05-17T21:17:37.903699Z"
        },
        "papermill": {
          "duration": 2.446439,
          "end_time": "2024-05-17T21:17:37.906775",
          "exception": false,
          "start_time": "2024-05-17T21:17:35.460336",
          "status": "completed"
        },
        "tags": [],
        "id": "7DDVTGV6lWro"
      },
      "execution_count": null,
      "outputs": []
    },
    {
      "cell_type": "markdown",
      "source": [
        "# **Reading Data :** #"
      ],
      "metadata": {
        "papermill": {
          "duration": 0.01346,
          "end_time": "2024-05-17T21:17:37.933752",
          "exception": false,
          "start_time": "2024-05-17T21:17:37.920292",
          "status": "completed"
        },
        "tags": [],
        "id": "VRi1GR7KlWro"
      }
    },
    {
      "cell_type": "code",
      "source": [
        "data = pd.read_csv(\"/kaggle/input/customer-segmentation-tutorial-in-python/Mall_Customers.csv\")"
      ],
      "metadata": {
        "execution": {
          "iopub.execute_input": "2024-05-17T21:17:37.963004Z",
          "iopub.status.busy": "2024-05-17T21:17:37.962187Z",
          "iopub.status.idle": "2024-05-17T21:17:37.987146Z",
          "shell.execute_reply": "2024-05-17T21:17:37.986215Z"
        },
        "papermill": {
          "duration": 0.042422,
          "end_time": "2024-05-17T21:17:37.989383",
          "exception": false,
          "start_time": "2024-05-17T21:17:37.946961",
          "status": "completed"
        },
        "tags": [],
        "id": "zvYC-unAlWrp"
      },
      "execution_count": null,
      "outputs": []
    },
    {
      "cell_type": "markdown",
      "source": [
        "# **EDA :**"
      ],
      "metadata": {
        "papermill": {
          "duration": 0.0132,
          "end_time": "2024-05-17T21:17:38.01654",
          "exception": false,
          "start_time": "2024-05-17T21:17:38.00334",
          "status": "completed"
        },
        "tags": [],
        "id": "Heg67pIZlWrp"
      }
    },
    {
      "cell_type": "code",
      "source": [
        "data.head(7)"
      ],
      "metadata": {
        "execution": {
          "iopub.execute_input": "2024-05-17T21:17:38.043918Z",
          "iopub.status.busy": "2024-05-17T21:17:38.04362Z",
          "iopub.status.idle": "2024-05-17T21:17:38.061136Z",
          "shell.execute_reply": "2024-05-17T21:17:38.060292Z"
        },
        "papermill": {
          "duration": 0.033495,
          "end_time": "2024-05-17T21:17:38.063098",
          "exception": false,
          "start_time": "2024-05-17T21:17:38.029603",
          "status": "completed"
        },
        "tags": [],
        "id": "sKMvHOEPlWrp"
      },
      "execution_count": null,
      "outputs": []
    },
    {
      "cell_type": "code",
      "source": [
        "data.tail(7)"
      ],
      "metadata": {
        "execution": {
          "iopub.execute_input": "2024-05-17T21:17:38.091087Z",
          "iopub.status.busy": "2024-05-17T21:17:38.090819Z",
          "iopub.status.idle": "2024-05-17T21:17:38.10027Z",
          "shell.execute_reply": "2024-05-17T21:17:38.099407Z"
        },
        "papermill": {
          "duration": 0.025529,
          "end_time": "2024-05-17T21:17:38.102173",
          "exception": false,
          "start_time": "2024-05-17T21:17:38.076644",
          "status": "completed"
        },
        "tags": [],
        "id": "AFmQo-rwlWrq"
      },
      "execution_count": null,
      "outputs": []
    },
    {
      "cell_type": "code",
      "source": [
        "data.info()"
      ],
      "metadata": {
        "execution": {
          "iopub.execute_input": "2024-05-17T21:17:38.130933Z",
          "iopub.status.busy": "2024-05-17T21:17:38.130655Z",
          "iopub.status.idle": "2024-05-17T21:17:38.149067Z",
          "shell.execute_reply": "2024-05-17T21:17:38.14797Z"
        },
        "papermill": {
          "duration": 0.034941,
          "end_time": "2024-05-17T21:17:38.150961",
          "exception": false,
          "start_time": "2024-05-17T21:17:38.11602",
          "status": "completed"
        },
        "tags": [],
        "id": "Lhzdhz3OlWrq"
      },
      "execution_count": null,
      "outputs": []
    },
    {
      "cell_type": "code",
      "source": [
        "data.describe()"
      ],
      "metadata": {
        "execution": {
          "iopub.execute_input": "2024-05-17T21:17:38.180312Z",
          "iopub.status.busy": "2024-05-17T21:17:38.180017Z",
          "iopub.status.idle": "2024-05-17T21:17:38.200123Z",
          "shell.execute_reply": "2024-05-17T21:17:38.199302Z"
        },
        "papermill": {
          "duration": 0.036924,
          "end_time": "2024-05-17T21:17:38.201965",
          "exception": false,
          "start_time": "2024-05-17T21:17:38.165041",
          "status": "completed"
        },
        "tags": [],
        "id": "GW5xOWz1lWrq"
      },
      "execution_count": null,
      "outputs": []
    },
    {
      "cell_type": "code",
      "source": [
        "cols=data.columns\n",
        "for col in cols:\n",
        "    print(data[col].value_counts(),\"\\n\")"
      ],
      "metadata": {
        "execution": {
          "iopub.execute_input": "2024-05-17T21:17:38.231369Z",
          "iopub.status.busy": "2024-05-17T21:17:38.231015Z",
          "iopub.status.idle": "2024-05-17T21:17:38.241922Z",
          "shell.execute_reply": "2024-05-17T21:17:38.241159Z"
        },
        "papermill": {
          "duration": 0.028461,
          "end_time": "2024-05-17T21:17:38.244363",
          "exception": false,
          "start_time": "2024-05-17T21:17:38.215902",
          "status": "completed"
        },
        "tags": [],
        "id": "hGhI23jllWrq"
      },
      "execution_count": null,
      "outputs": []
    },
    {
      "cell_type": "markdown",
      "source": [
        "#  **EDA With Visualization :** #"
      ],
      "metadata": {
        "papermill": {
          "duration": 0.013699,
          "end_time": "2024-05-17T21:17:38.27313",
          "exception": false,
          "start_time": "2024-05-17T21:17:38.259431",
          "status": "completed"
        },
        "tags": [],
        "id": "D4rqIrFWlWrr"
      }
    },
    {
      "cell_type": "code",
      "source": [
        "custom_palette = \"Set2\"\n",
        "sns.set_palette(custom_palette)\n",
        "sns.pairplot(data)"
      ],
      "metadata": {
        "execution": {
          "iopub.execute_input": "2024-05-17T21:17:38.302349Z",
          "iopub.status.busy": "2024-05-17T21:17:38.302029Z",
          "iopub.status.idle": "2024-05-17T21:17:43.047044Z",
          "shell.execute_reply": "2024-05-17T21:17:43.046127Z"
        },
        "papermill": {
          "duration": 4.763333,
          "end_time": "2024-05-17T21:17:43.050553",
          "exception": false,
          "start_time": "2024-05-17T21:17:38.28722",
          "status": "completed"
        },
        "tags": [],
        "id": "LkA8zDiNlWrr"
      },
      "execution_count": null,
      "outputs": []
    },
    {
      "cell_type": "code",
      "source": [
        "custom_palette = \"Set2\"\n",
        "sns.set_palette(custom_palette)\n",
        "for col in data.select_dtypes(include=['int', 'float']).columns:\n",
        "    fig, ax = plt.subplots(figsize=(10, 5))\n",
        "    ax.set_title(f'Boxplot of {col}')\n",
        "    bp = sns.boxplot(data=data, x=col, ax=ax)\n",
        "    plt.show()\n",
        "    plt.close(fig)"
      ],
      "metadata": {
        "execution": {
          "iopub.execute_input": "2024-05-17T21:17:43.084199Z",
          "iopub.status.busy": "2024-05-17T21:17:43.083924Z",
          "iopub.status.idle": "2024-05-17T21:17:43.902181Z",
          "shell.execute_reply": "2024-05-17T21:17:43.901324Z"
        },
        "papermill": {
          "duration": 0.837298,
          "end_time": "2024-05-17T21:17:43.90419",
          "exception": false,
          "start_time": "2024-05-17T21:17:43.066892",
          "status": "completed"
        },
        "tags": [],
        "id": "CGWLaZY6lWrr"
      },
      "execution_count": null,
      "outputs": []
    },
    {
      "cell_type": "code",
      "source": [
        "custom_palette = \"Set2\"\n",
        "sns.set_palette(custom_palette)\n",
        "sns.displot(data=data, x=\"Gender\")"
      ],
      "metadata": {
        "execution": {
          "iopub.execute_input": "2024-05-17T21:17:43.941024Z",
          "iopub.status.busy": "2024-05-17T21:17:43.940734Z",
          "iopub.status.idle": "2024-05-17T21:17:44.260725Z",
          "shell.execute_reply": "2024-05-17T21:17:44.259823Z"
        },
        "papermill": {
          "duration": 0.340841,
          "end_time": "2024-05-17T21:17:44.262849",
          "exception": false,
          "start_time": "2024-05-17T21:17:43.922008",
          "status": "completed"
        },
        "tags": [],
        "id": "t0gx7TlClWrr"
      },
      "execution_count": null,
      "outputs": []
    },
    {
      "cell_type": "code",
      "source": [
        "sns.displot(data, x = 'Age',hue='Gender', kind='kde')"
      ],
      "metadata": {
        "execution": {
          "iopub.execute_input": "2024-05-17T21:17:44.300339Z",
          "iopub.status.busy": "2024-05-17T21:17:44.300007Z",
          "iopub.status.idle": "2024-05-17T21:17:44.854031Z",
          "shell.execute_reply": "2024-05-17T21:17:44.853063Z"
        },
        "papermill": {
          "duration": 0.574933,
          "end_time": "2024-05-17T21:17:44.856102",
          "exception": false,
          "start_time": "2024-05-17T21:17:44.281169",
          "status": "completed"
        },
        "tags": [],
        "id": "S8xdBPKLlWrr"
      },
      "execution_count": null,
      "outputs": []
    },
    {
      "cell_type": "code",
      "source": [
        "sns.set_palette(\"Set2\")\n",
        "sns.distplot(data['Age'], kde=True, bins=30)\n",
        "plt.title('Distribution Plot of the Gender of customers')\n",
        "plt.show()"
      ],
      "metadata": {
        "execution": {
          "iopub.execute_input": "2024-05-17T21:17:44.896492Z",
          "iopub.status.busy": "2024-05-17T21:17:44.89588Z",
          "iopub.status.idle": "2024-05-17T21:17:45.243023Z",
          "shell.execute_reply": "2024-05-17T21:17:45.242168Z"
        },
        "papermill": {
          "duration": 0.370064,
          "end_time": "2024-05-17T21:17:45.245228",
          "exception": false,
          "start_time": "2024-05-17T21:17:44.875164",
          "status": "completed"
        },
        "tags": [],
        "id": "wT2p7M9olWrr"
      },
      "execution_count": null,
      "outputs": []
    },
    {
      "cell_type": "code",
      "source": [
        "sns.set_palette(\"Set2\")\n",
        "sns.distplot(data['Annual Income (k$)'], kde=True, bins=20)\n",
        "plt.title('Distribution Plot of the Anual income of customers')\n",
        "plt.show()"
      ],
      "metadata": {
        "execution": {
          "iopub.execute_input": "2024-05-17T21:17:45.284751Z",
          "iopub.status.busy": "2024-05-17T21:17:45.284407Z",
          "iopub.status.idle": "2024-05-17T21:17:45.603905Z",
          "shell.execute_reply": "2024-05-17T21:17:45.602988Z"
        },
        "papermill": {
          "duration": 0.341371,
          "end_time": "2024-05-17T21:17:45.605987",
          "exception": false,
          "start_time": "2024-05-17T21:17:45.264616",
          "status": "completed"
        },
        "tags": [],
        "id": "s5wVgOnulWrr"
      },
      "execution_count": null,
      "outputs": []
    },
    {
      "cell_type": "code",
      "source": [
        "sns.set_palette(\"Set2\")\n",
        "sns.distplot(data[\"Spending Score (1-100)\"], kde=True, bins=30)\n",
        "plt.title('Distribution Plot of the Spending Score of customers')\n",
        "plt.show()"
      ],
      "metadata": {
        "execution": {
          "iopub.execute_input": "2024-05-17T21:17:45.646378Z",
          "iopub.status.busy": "2024-05-17T21:17:45.646053Z",
          "iopub.status.idle": "2024-05-17T21:17:46.002966Z",
          "shell.execute_reply": "2024-05-17T21:17:46.002003Z"
        },
        "papermill": {
          "duration": 0.379401,
          "end_time": "2024-05-17T21:17:46.005202",
          "exception": false,
          "start_time": "2024-05-17T21:17:45.625801",
          "status": "completed"
        },
        "tags": [],
        "id": "XBtw9_-AlWrr"
      },
      "execution_count": null,
      "outputs": []
    },
    {
      "cell_type": "code",
      "source": [
        "custom_palette = \"Set2\"\n",
        "sns.violinplot(x='Age', y='Gender', data=data, palette=custom_palette)\n",
        "plt.title('Violinplot of gender with the age ')\n",
        "plt.show()"
      ],
      "metadata": {
        "execution": {
          "iopub.execute_input": "2024-05-17T21:17:46.047722Z",
          "iopub.status.busy": "2024-05-17T21:17:46.047112Z",
          "iopub.status.idle": "2024-05-17T21:17:46.332568Z",
          "shell.execute_reply": "2024-05-17T21:17:46.331642Z"
        },
        "papermill": {
          "duration": 0.308901,
          "end_time": "2024-05-17T21:17:46.334556",
          "exception": false,
          "start_time": "2024-05-17T21:17:46.025655",
          "status": "completed"
        },
        "tags": [],
        "id": "dYwcj0lZlWrs"
      },
      "execution_count": null,
      "outputs": []
    },
    {
      "cell_type": "code",
      "source": [
        "custom_palette = \"Set2\"\n",
        "sns.violinplot(x=\"Spending Score (1-100)\", y='Gender', data=data, palette=custom_palette)\n",
        "plt.title('Violinplot of gender and the spending scores')\n",
        "plt.show()"
      ],
      "metadata": {
        "execution": {
          "iopub.execute_input": "2024-05-17T21:17:46.377564Z",
          "iopub.status.busy": "2024-05-17T21:17:46.376936Z",
          "iopub.status.idle": "2024-05-17T21:17:46.660885Z",
          "shell.execute_reply": "2024-05-17T21:17:46.659877Z"
        },
        "papermill": {
          "duration": 0.307548,
          "end_time": "2024-05-17T21:17:46.662901",
          "exception": false,
          "start_time": "2024-05-17T21:17:46.355353",
          "status": "completed"
        },
        "tags": [],
        "id": "CirNW2udlWrs"
      },
      "execution_count": null,
      "outputs": []
    },
    {
      "cell_type": "code",
      "source": [
        "custom_palette = \"Set2\"\n",
        "sns.violinplot(x=\"Annual Income (k$)\", y='Gender', data=data, palette=custom_palette)\n",
        "plt.title('Violinplot of gender and the annual income')\n",
        "plt.show()"
      ],
      "metadata": {
        "execution": {
          "iopub.execute_input": "2024-05-17T21:17:46.708175Z",
          "iopub.status.busy": "2024-05-17T21:17:46.707386Z",
          "iopub.status.idle": "2024-05-17T21:17:46.987225Z",
          "shell.execute_reply": "2024-05-17T21:17:46.98632Z"
        },
        "papermill": {
          "duration": 0.304784,
          "end_time": "2024-05-17T21:17:46.989509",
          "exception": false,
          "start_time": "2024-05-17T21:17:46.684725",
          "status": "completed"
        },
        "tags": [],
        "id": "kOmJDPuWlWrs"
      },
      "execution_count": null,
      "outputs": []
    },
    {
      "cell_type": "code",
      "source": [
        "custom_palette = \"Set2\"\n",
        "sns.set_palette(custom_palette)\n",
        "plt.figure(figsize=(8, 6))\n",
        "data['Gender'].value_counts().plot(kind='pie', autopct='%1.1f%%', colors=sns.color_palette()\n",
        "                                   , startangle=140)\n",
        "plt.title(\"Distribution of Gender\")\n",
        "plt.ylabel(\"\")\n",
        "plt.axis('equal')\n",
        "plt.show()"
      ],
      "metadata": {
        "execution": {
          "iopub.execute_input": "2024-05-17T21:17:47.036192Z",
          "iopub.status.busy": "2024-05-17T21:17:47.035488Z",
          "iopub.status.idle": "2024-05-17T21:17:47.190676Z",
          "shell.execute_reply": "2024-05-17T21:17:47.189136Z"
        },
        "papermill": {
          "duration": 0.184417,
          "end_time": "2024-05-17T21:17:47.196394",
          "exception": false,
          "start_time": "2024-05-17T21:17:47.011977",
          "status": "completed"
        },
        "tags": [],
        "id": "ES3cK0uPlWrs"
      },
      "execution_count": null,
      "outputs": []
    },
    {
      "cell_type": "code",
      "source": [
        "custom_palette = \"Set2\"\n",
        "sns.set_palette(custom_palette)\n",
        "plt.figure(figsize=(20,10))\n",
        "sns.boxplot(data=data, x=\"Age\", y=\"Annual Income (k$)\")\n",
        "plt.show()"
      ],
      "metadata": {
        "execution": {
          "iopub.execute_input": "2024-05-17T21:17:47.309116Z",
          "iopub.status.busy": "2024-05-17T21:17:47.308769Z",
          "iopub.status.idle": "2024-05-17T21:17:48.40151Z",
          "shell.execute_reply": "2024-05-17T21:17:48.400552Z"
        },
        "papermill": {
          "duration": 1.118326,
          "end_time": "2024-05-17T21:17:48.403653",
          "exception": false,
          "start_time": "2024-05-17T21:17:47.285327",
          "status": "completed"
        },
        "tags": [],
        "id": "LFola06ElWrs"
      },
      "execution_count": null,
      "outputs": []
    },
    {
      "cell_type": "code",
      "source": [
        "custom_palette = \"Set2\"\n",
        "sns.set_palette(custom_palette)\n",
        "plt.figure(figsize=(20,10))\n",
        "sns.boxplot(data=data, x=\"Age\", y=\"Spending Score (1-100)\")\n",
        "plt.show()"
      ],
      "metadata": {
        "execution": {
          "iopub.execute_input": "2024-05-17T21:17:48.455219Z",
          "iopub.status.busy": "2024-05-17T21:17:48.454557Z",
          "iopub.status.idle": "2024-05-17T21:17:49.493688Z",
          "shell.execute_reply": "2024-05-17T21:17:49.492612Z"
        },
        "papermill": {
          "duration": 1.069165,
          "end_time": "2024-05-17T21:17:49.496571",
          "exception": false,
          "start_time": "2024-05-17T21:17:48.427406",
          "status": "completed"
        },
        "tags": [],
        "id": "eZO6uQFhlWrs"
      },
      "execution_count": null,
      "outputs": []
    },
    {
      "cell_type": "markdown",
      "source": [
        "# **Pre-Processing Operations :**"
      ],
      "metadata": {
        "papermill": {
          "duration": 0.030487,
          "end_time": "2024-05-17T21:17:49.554599",
          "exception": false,
          "start_time": "2024-05-17T21:17:49.524112",
          "status": "completed"
        },
        "tags": [],
        "id": "i5o-WGzLlWrs"
      }
    },
    {
      "cell_type": "code",
      "source": [
        "data.isna().sum()"
      ],
      "metadata": {
        "execution": {
          "iopub.execute_input": "2024-05-17T21:17:49.60316Z",
          "iopub.status.busy": "2024-05-17T21:17:49.602733Z",
          "iopub.status.idle": "2024-05-17T21:17:49.61168Z",
          "shell.execute_reply": "2024-05-17T21:17:49.610713Z"
        },
        "papermill": {
          "duration": 0.035191,
          "end_time": "2024-05-17T21:17:49.613549",
          "exception": false,
          "start_time": "2024-05-17T21:17:49.578358",
          "status": "completed"
        },
        "tags": [],
        "id": "_UbQJiFQlWrs"
      },
      "execution_count": null,
      "outputs": []
    },
    {
      "cell_type": "code",
      "source": [
        "data.duplicated().sum()"
      ],
      "metadata": {
        "execution": {
          "iopub.execute_input": "2024-05-17T21:17:49.661758Z",
          "iopub.status.busy": "2024-05-17T21:17:49.66147Z",
          "iopub.status.idle": "2024-05-17T21:17:49.668916Z",
          "shell.execute_reply": "2024-05-17T21:17:49.667892Z"
        },
        "papermill": {
          "duration": 0.033969,
          "end_time": "2024-05-17T21:17:49.671049",
          "exception": false,
          "start_time": "2024-05-17T21:17:49.63708",
          "status": "completed"
        },
        "tags": [],
        "id": "tSdzc_pglWrs"
      },
      "execution_count": null,
      "outputs": []
    },
    {
      "cell_type": "code",
      "source": [
        "# Dropping the customer id columns because it will be not useful and maybe has effects on the models\n",
        "data.drop(columns=[\"CustomerID\"],inplace=True)"
      ],
      "metadata": {
        "execution": {
          "iopub.execute_input": "2024-05-17T21:17:49.721154Z",
          "iopub.status.busy": "2024-05-17T21:17:49.720833Z",
          "iopub.status.idle": "2024-05-17T21:17:49.726476Z",
          "shell.execute_reply": "2024-05-17T21:17:49.725458Z"
        },
        "papermill": {
          "duration": 0.032622,
          "end_time": "2024-05-17T21:17:49.728674",
          "exception": false,
          "start_time": "2024-05-17T21:17:49.696052",
          "status": "completed"
        },
        "tags": [],
        "id": "582uIefulWrt"
      },
      "execution_count": null,
      "outputs": []
    },
    {
      "cell_type": "code",
      "source": [
        "Features=data.drop(columns=[\"Gender\"])\n",
        "Goal=data[\"Gender\"]"
      ],
      "metadata": {
        "execution": {
          "iopub.execute_input": "2024-05-17T21:17:49.77954Z",
          "iopub.status.busy": "2024-05-17T21:17:49.77915Z",
          "iopub.status.idle": "2024-05-17T21:17:49.785002Z",
          "shell.execute_reply": "2024-05-17T21:17:49.784151Z"
        },
        "papermill": {
          "duration": 0.032911,
          "end_time": "2024-05-17T21:17:49.787019",
          "exception": false,
          "start_time": "2024-05-17T21:17:49.754108",
          "status": "completed"
        },
        "tags": [],
        "id": "0e3OdbXClWrt"
      },
      "execution_count": null,
      "outputs": []
    },
    {
      "cell_type": "code",
      "source": [
        "Features.head(10)"
      ],
      "metadata": {
        "execution": {
          "iopub.execute_input": "2024-05-17T21:17:49.835652Z",
          "iopub.status.busy": "2024-05-17T21:17:49.835355Z",
          "iopub.status.idle": "2024-05-17T21:17:49.845384Z",
          "shell.execute_reply": "2024-05-17T21:17:49.844326Z"
        },
        "papermill": {
          "duration": 0.036701,
          "end_time": "2024-05-17T21:17:49.847497",
          "exception": false,
          "start_time": "2024-05-17T21:17:49.810796",
          "status": "completed"
        },
        "tags": [],
        "id": "rh46xUtTlWrt"
      },
      "execution_count": null,
      "outputs": []
    },
    {
      "cell_type": "code",
      "source": [
        "Goal.head(10)"
      ],
      "metadata": {
        "execution": {
          "iopub.execute_input": "2024-05-17T21:17:49.898966Z",
          "iopub.status.busy": "2024-05-17T21:17:49.898652Z",
          "iopub.status.idle": "2024-05-17T21:17:49.906337Z",
          "shell.execute_reply": "2024-05-17T21:17:49.904765Z"
        },
        "papermill": {
          "duration": 0.036538,
          "end_time": "2024-05-17T21:17:49.909326",
          "exception": false,
          "start_time": "2024-05-17T21:17:49.872788",
          "status": "completed"
        },
        "tags": [],
        "id": "x0IHiJselWrt"
      },
      "execution_count": null,
      "outputs": []
    },
    {
      "cell_type": "code",
      "source": [
        "Scaled_Features = MaxAbsScaler().fit_transform(Features)\n",
        "Scaled_Features = pd.DataFrame(Scaled_Features, columns=Features.columns)"
      ],
      "metadata": {
        "execution": {
          "iopub.execute_input": "2024-05-17T21:17:49.960359Z",
          "iopub.status.busy": "2024-05-17T21:17:49.95997Z",
          "iopub.status.idle": "2024-05-17T21:17:49.968275Z",
          "shell.execute_reply": "2024-05-17T21:17:49.967302Z"
        },
        "papermill": {
          "duration": 0.03571,
          "end_time": "2024-05-17T21:17:49.970305",
          "exception": false,
          "start_time": "2024-05-17T21:17:49.934595",
          "status": "completed"
        },
        "tags": [],
        "id": "33-XtTXwlWrt"
      },
      "execution_count": null,
      "outputs": []
    },
    {
      "cell_type": "code",
      "source": [
        "Scaled_Features.head()"
      ],
      "metadata": {
        "execution": {
          "iopub.execute_input": "2024-05-17T21:17:50.021231Z",
          "iopub.status.busy": "2024-05-17T21:17:50.020931Z",
          "iopub.status.idle": "2024-05-17T21:17:50.03142Z",
          "shell.execute_reply": "2024-05-17T21:17:50.030297Z"
        },
        "papermill": {
          "duration": 0.03798,
          "end_time": "2024-05-17T21:17:50.033543",
          "exception": false,
          "start_time": "2024-05-17T21:17:49.995563",
          "status": "completed"
        },
        "tags": [],
        "id": "_Ya2EBHNlWrt"
      },
      "execution_count": null,
      "outputs": []
    },
    {
      "cell_type": "code",
      "source": [
        "# Saving Scaled Features as CSV File\n",
        "Scaled_Features.to_csv('Scaled Features.csv', index=False)"
      ],
      "metadata": {
        "execution": {
          "iopub.execute_input": "2024-05-17T21:17:50.085059Z",
          "iopub.status.busy": "2024-05-17T21:17:50.08451Z",
          "iopub.status.idle": "2024-05-17T21:17:50.09293Z",
          "shell.execute_reply": "2024-05-17T21:17:50.091964Z"
        },
        "papermill": {
          "duration": 0.036126,
          "end_time": "2024-05-17T21:17:50.095697",
          "exception": false,
          "start_time": "2024-05-17T21:17:50.059571",
          "status": "completed"
        },
        "tags": [],
        "id": "qCtjdAHZlWrt"
      },
      "execution_count": null,
      "outputs": []
    },
    {
      "cell_type": "code",
      "source": [
        "Ftrain,Ftest,Gtrain,Gtest=train_test_split(Scaled_Features,Goal,test_size=0.1,random_state=0)"
      ],
      "metadata": {
        "execution": {
          "iopub.execute_input": "2024-05-17T21:17:50.149541Z",
          "iopub.status.busy": "2024-05-17T21:17:50.149177Z",
          "iopub.status.idle": "2024-05-17T21:17:50.157264Z",
          "shell.execute_reply": "2024-05-17T21:17:50.156426Z"
        },
        "papermill": {
          "duration": 0.035476,
          "end_time": "2024-05-17T21:17:50.159135",
          "exception": false,
          "start_time": "2024-05-17T21:17:50.123659",
          "status": "completed"
        },
        "tags": [],
        "id": "vl4cbWuwlWrt"
      },
      "execution_count": null,
      "outputs": []
    },
    {
      "cell_type": "code",
      "source": [
        "Ftrain.head()"
      ],
      "metadata": {
        "execution": {
          "iopub.execute_input": "2024-05-17T21:17:50.211115Z",
          "iopub.status.busy": "2024-05-17T21:17:50.210803Z",
          "iopub.status.idle": "2024-05-17T21:17:50.220925Z",
          "shell.execute_reply": "2024-05-17T21:17:50.220037Z"
        },
        "papermill": {
          "duration": 0.039836,
          "end_time": "2024-05-17T21:17:50.223003",
          "exception": false,
          "start_time": "2024-05-17T21:17:50.183167",
          "status": "completed"
        },
        "tags": [],
        "id": "_hxw03y8lWrt"
      },
      "execution_count": null,
      "outputs": []
    },
    {
      "cell_type": "code",
      "source": [
        "Ftest.head()"
      ],
      "metadata": {
        "execution": {
          "iopub.execute_input": "2024-05-17T21:17:50.272958Z",
          "iopub.status.busy": "2024-05-17T21:17:50.272708Z",
          "iopub.status.idle": "2024-05-17T21:17:50.281967Z",
          "shell.execute_reply": "2024-05-17T21:17:50.28115Z"
        },
        "papermill": {
          "duration": 0.036478,
          "end_time": "2024-05-17T21:17:50.283921",
          "exception": false,
          "start_time": "2024-05-17T21:17:50.247443",
          "status": "completed"
        },
        "tags": [],
        "id": "qTx05uUclWrt"
      },
      "execution_count": null,
      "outputs": []
    },
    {
      "cell_type": "code",
      "source": [
        "Gtrain.head()"
      ],
      "metadata": {
        "execution": {
          "iopub.execute_input": "2024-05-17T21:17:50.333956Z",
          "iopub.status.busy": "2024-05-17T21:17:50.333711Z",
          "iopub.status.idle": "2024-05-17T21:17:50.339987Z",
          "shell.execute_reply": "2024-05-17T21:17:50.339106Z"
        },
        "papermill": {
          "duration": 0.033655,
          "end_time": "2024-05-17T21:17:50.342076",
          "exception": false,
          "start_time": "2024-05-17T21:17:50.308421",
          "status": "completed"
        },
        "tags": [],
        "id": "7Q-PAKhGlWrt"
      },
      "execution_count": null,
      "outputs": []
    },
    {
      "cell_type": "code",
      "source": [
        "Gtest.head()"
      ],
      "metadata": {
        "execution": {
          "iopub.execute_input": "2024-05-17T21:17:50.393793Z",
          "iopub.status.busy": "2024-05-17T21:17:50.393505Z",
          "iopub.status.idle": "2024-05-17T21:17:50.400631Z",
          "shell.execute_reply": "2024-05-17T21:17:50.399744Z"
        },
        "papermill": {
          "duration": 0.034631,
          "end_time": "2024-05-17T21:17:50.402528",
          "exception": false,
          "start_time": "2024-05-17T21:17:50.367897",
          "status": "completed"
        },
        "tags": [],
        "id": "z9sQHZW3lWry"
      },
      "execution_count": null,
      "outputs": []
    },
    {
      "cell_type": "markdown",
      "source": [
        "# **Applying Grid Search Model on Decision Tree Classifier :**"
      ],
      "metadata": {
        "papermill": {
          "duration": 0.024886,
          "end_time": "2024-05-17T21:17:50.451974",
          "exception": false,
          "start_time": "2024-05-17T21:17:50.427088",
          "status": "completed"
        },
        "tags": [],
        "id": "9EdteTqTlWry"
      }
    },
    {
      "cell_type": "code",
      "source": [
        "DTC = DecisionTreeClassifier()\n",
        "\n",
        "DTC_Params = {\n",
        "    'max_depth' : [3,5,7,9,10,11,12],\n",
        "    'min_samples_leaf' :list(range(2,20)),\n",
        "    'criterion': ['gini', 'entropy'],\n",
        "    'min_samples_split' : list(range(2,20))\n",
        "}\n",
        "\n",
        "GRS = GridSearchCV(DTC, DTC_Params, cv = 7)\n",
        "GRS.fit(Ftrain, Gtrain)\n",
        "\n",
        "print(GRS.best_params_)\n",
        "print(GRS.best_score_)"
      ],
      "metadata": {
        "execution": {
          "iopub.execute_input": "2024-05-17T21:17:50.503412Z",
          "iopub.status.busy": "2024-05-17T21:17:50.503058Z",
          "iopub.status.idle": "2024-05-17T21:20:06.763446Z",
          "shell.execute_reply": "2024-05-17T21:20:06.762533Z"
        },
        "papermill": {
          "duration": 136.314388,
          "end_time": "2024-05-17T21:20:06.791207",
          "exception": false,
          "start_time": "2024-05-17T21:17:50.476819",
          "status": "completed"
        },
        "tags": [],
        "id": "bUXcFEIglWry"
      },
      "execution_count": null,
      "outputs": []
    },
    {
      "cell_type": "code",
      "source": [
        "DTC=DecisionTreeClassifier(criterion= 'entropy', max_depth= 12, min_samples_leaf= 2, min_samples_split= 5)\n",
        "DTC.fit(Ftrain,Gtrain)\n",
        "DTC_Pred=DTC.predict(Ftest)\n",
        "DTC_Pred_Train=DTC.predict(Ftrain)"
      ],
      "metadata": {
        "execution": {
          "iopub.execute_input": "2024-05-17T21:20:06.843057Z",
          "iopub.status.busy": "2024-05-17T21:20:06.842367Z",
          "iopub.status.idle": "2024-05-17T21:20:06.85288Z",
          "shell.execute_reply": "2024-05-17T21:20:06.852065Z"
        },
        "papermill": {
          "duration": 0.038387,
          "end_time": "2024-05-17T21:20:06.854794",
          "exception": false,
          "start_time": "2024-05-17T21:20:06.816407",
          "status": "completed"
        },
        "tags": [],
        "id": "MZeZGTqnlWry"
      },
      "execution_count": null,
      "outputs": []
    },
    {
      "cell_type": "code",
      "source": [
        "test_accuracy = accuracy_score(Gtest, DTC_Pred)\n",
        "print(f\"Accuracy Score for the test group: {test_accuracy*100}\\n\")\n",
        "train_accuracy = accuracy_score(Gtrain, DTC_Pred_Train)\n",
        "print(f\"Accuracy Score for the train group: {train_accuracy*100:.2f}\\n\")"
      ],
      "metadata": {
        "execution": {
          "iopub.execute_input": "2024-05-17T21:20:06.907009Z",
          "iopub.status.busy": "2024-05-17T21:20:06.906424Z",
          "iopub.status.idle": "2024-05-17T21:20:06.91436Z",
          "shell.execute_reply": "2024-05-17T21:20:06.913447Z"
        },
        "papermill": {
          "duration": 0.037163,
          "end_time": "2024-05-17T21:20:06.91704",
          "exception": false,
          "start_time": "2024-05-17T21:20:06.879877",
          "status": "completed"
        },
        "tags": [],
        "id": "BuS5Ut7RlWry"
      },
      "execution_count": null,
      "outputs": []
    },
    {
      "cell_type": "code",
      "source": [
        "print(\"Classification Report for the test group : \\n\")\n",
        "print(classification_report(Gtest,DTC_Pred),\"\\n\\n\")\n",
        "print(\"Classification Report for the train group (to check if there is any overfitting): \\n\")\n",
        "print(classification_report(Gtrain,DTC_Pred_Train),\"\\n\\n\")"
      ],
      "metadata": {
        "execution": {
          "iopub.execute_input": "2024-05-17T21:20:06.970039Z",
          "iopub.status.busy": "2024-05-17T21:20:06.969751Z",
          "iopub.status.idle": "2024-05-17T21:20:06.997044Z",
          "shell.execute_reply": "2024-05-17T21:20:06.9957Z"
        },
        "papermill": {
          "duration": 0.055904,
          "end_time": "2024-05-17T21:20:06.999068",
          "exception": false,
          "start_time": "2024-05-17T21:20:06.943164",
          "status": "completed"
        },
        "tags": [],
        "id": "0CaIctY4lWry"
      },
      "execution_count": null,
      "outputs": []
    },
    {
      "cell_type": "code",
      "source": [
        "CM_DTC=confusion_matrix(Gtest,DTC_Pred)\n",
        "print(CM_DTC)\n",
        "sns.heatmap(CM_DTC,annot=True,cmap=\"Set3\")\n",
        "plt.show()"
      ],
      "metadata": {
        "execution": {
          "iopub.execute_input": "2024-05-17T21:20:07.051794Z",
          "iopub.status.busy": "2024-05-17T21:20:07.051454Z",
          "iopub.status.idle": "2024-05-17T21:20:07.251517Z",
          "shell.execute_reply": "2024-05-17T21:20:07.250586Z"
        },
        "papermill": {
          "duration": 0.228534,
          "end_time": "2024-05-17T21:20:07.253543",
          "exception": false,
          "start_time": "2024-05-17T21:20:07.025009",
          "status": "completed"
        },
        "tags": [],
        "id": "daqSbuSAlWry"
      },
      "execution_count": null,
      "outputs": []
    },
    {
      "cell_type": "markdown",
      "source": [
        "# **Applying Grid Search Model on CatBoosting Classifier :**"
      ],
      "metadata": {
        "papermill": {
          "duration": 0.025358,
          "end_time": "2024-05-17T21:20:07.304978",
          "exception": false,
          "start_time": "2024-05-17T21:20:07.27962",
          "status": "completed"
        },
        "tags": [],
        "id": "hgB-QU8HlWry"
      }
    },
    {
      "cell_type": "code",
      "source": [
        "CB_params = {\n",
        "    'learning_rate': [0.05, 0.1],\n",
        "    'depth': [2,3,4,5,6,7],\n",
        "    'iterations': [100,150,250,300,350],\n",
        "    'bagging_temperature': [0.5, 1.0]\n",
        "}\n",
        "\n",
        "CB = CatBoostClassifier()\n",
        "GRS = GridSearchCV(CB, CB_params, cv=7)\n",
        "GRS.fit(Ftrain, Gtrain)\n",
        "\n",
        "# Print the best parameters and best score\n",
        "print(GRS.best_params_)\n",
        "print(GRS.best_score_)"
      ],
      "metadata": {
        "execution": {
          "iopub.execute_input": "2024-05-17T21:20:07.357891Z",
          "iopub.status.busy": "2024-05-17T21:20:07.357535Z",
          "iopub.status.idle": "2024-05-17T21:24:59.813301Z",
          "shell.execute_reply": "2024-05-17T21:24:59.812322Z"
        },
        "papermill": {
          "duration": 292.485244,
          "end_time": "2024-05-17T21:24:59.815785",
          "exception": false,
          "start_time": "2024-05-17T21:20:07.330541",
          "status": "completed"
        },
        "scrolled": true,
        "tags": [],
        "collapsed": true,
        "jupyter": {
          "outputs_hidden": true
        },
        "id": "Er0ZsvnNlWrz"
      },
      "execution_count": null,
      "outputs": []
    },
    {
      "cell_type": "code",
      "source": [
        "CB=CatBoostClassifier(bagging_temperature=0.5,depth=4 ,iterations=150,learning_rate=0.1)\n",
        "CB.fit(Ftrain,Gtrain)\n",
        "CB_Pred=CB.predict(Ftest)\n",
        "CB_Pred_Train=CB.predict(Ftrain)"
      ],
      "metadata": {
        "execution": {
          "iopub.execute_input": "2024-05-17T21:25:00.98742Z",
          "iopub.status.busy": "2024-05-17T21:25:00.98699Z",
          "iopub.status.idle": "2024-05-17T21:25:01.14177Z",
          "shell.execute_reply": "2024-05-17T21:25:01.140843Z"
        },
        "papermill": {
          "duration": 0.751251,
          "end_time": "2024-05-17T21:25:01.144016",
          "exception": false,
          "start_time": "2024-05-17T21:25:00.392765",
          "status": "completed"
        },
        "tags": [],
        "collapsed": true,
        "jupyter": {
          "outputs_hidden": true
        },
        "id": "ZBpO48BQlWrz"
      },
      "execution_count": null,
      "outputs": []
    },
    {
      "cell_type": "code",
      "source": [
        "test_accuracy = accuracy_score(Gtest, CB_Pred)\n",
        "print(f\"Accuracy Score for the test group: {test_accuracy*100:.4f}\\n\")\n",
        "train_accuracy = accuracy_score(Gtrain, CB_Pred_Train)\n",
        "print(f\"Accuracy Score for the train group: {train_accuracy*100:.4f}\\n\")"
      ],
      "metadata": {
        "execution": {
          "iopub.execute_input": "2024-05-17T21:25:02.29372Z",
          "iopub.status.busy": "2024-05-17T21:25:02.293359Z",
          "iopub.status.idle": "2024-05-17T21:25:02.302082Z",
          "shell.execute_reply": "2024-05-17T21:25:02.301151Z"
        },
        "papermill": {
          "duration": 0.58678,
          "end_time": "2024-05-17T21:25:02.304087",
          "exception": false,
          "start_time": "2024-05-17T21:25:01.717307",
          "status": "completed"
        },
        "tags": [],
        "id": "ywqbA0_2lWrz"
      },
      "execution_count": null,
      "outputs": []
    },
    {
      "cell_type": "code",
      "source": [
        "print(\"Classification Report for the test group : \\n\")\n",
        "print(classification_report(Gtest,CB_Pred),\"\\n\\n\")\n",
        "print(\"Classification Report for the train group (to check if there is any overfitting): \\n\")\n",
        "print(classification_report(Gtrain,CB_Pred_Train),\"\\n\\n\")"
      ],
      "metadata": {
        "execution": {
          "iopub.execute_input": "2024-05-17T21:25:03.45156Z",
          "iopub.status.busy": "2024-05-17T21:25:03.451181Z",
          "iopub.status.idle": "2024-05-17T21:25:03.479Z",
          "shell.execute_reply": "2024-05-17T21:25:03.477872Z"
        },
        "papermill": {
          "duration": 0.602575,
          "end_time": "2024-05-17T21:25:03.481065",
          "exception": false,
          "start_time": "2024-05-17T21:25:02.87849",
          "status": "completed"
        },
        "tags": [],
        "id": "ofQ6gU04lWrz"
      },
      "execution_count": null,
      "outputs": []
    },
    {
      "cell_type": "code",
      "source": [
        "CM_CB=confusion_matrix(Gtest,CB_Pred)\n",
        "print(CM_CB)\n",
        "sns.heatmap(CM_CB,annot=True,cmap=\"Set3\")\n",
        "plt.show()"
      ],
      "metadata": {
        "execution": {
          "iopub.execute_input": "2024-05-17T21:25:04.611787Z",
          "iopub.status.busy": "2024-05-17T21:25:04.611416Z",
          "iopub.status.idle": "2024-05-17T21:25:04.877133Z",
          "shell.execute_reply": "2024-05-17T21:25:04.876295Z"
        },
        "papermill": {
          "duration": 0.837076,
          "end_time": "2024-05-17T21:25:04.879118",
          "exception": false,
          "start_time": "2024-05-17T21:25:04.042042",
          "status": "completed"
        },
        "tags": [],
        "id": "ke2qTsUtlWrz"
      },
      "execution_count": null,
      "outputs": []
    },
    {
      "cell_type": "markdown",
      "source": [
        "# **Models Evaluation and Choosing The Final Used Model :**"
      ],
      "metadata": {
        "papermill": {
          "duration": 0.572641,
          "end_time": "2024-05-17T21:25:06.028853",
          "exception": false,
          "start_time": "2024-05-17T21:25:05.456212",
          "status": "completed"
        },
        "tags": [],
        "id": "lwaJTDgYlWrz"
      }
    },
    {
      "cell_type": "markdown",
      "source": [
        "#### After evaluating both models, the CatBoosting model demonstrates superior performance over the Decision Tree model. The CatBoosting model achieved an accuracy of 55% on the test set compared to the Decision Tree's 40%. Additionally, CatBoosting shows better precision and recall for both classes, indicating a more balanced and robust model. While both models exhibit some degree of overfitting, CatBoosting's metrics are more favorable, with a higher f1-score and accuracy on the test set. Therefore, CatBoosting is the recommended model for deployment."
      ],
      "metadata": {
        "papermill": {
          "duration": 0.594027,
          "end_time": "2024-05-17T21:25:07.204021",
          "exception": false,
          "start_time": "2024-05-17T21:25:06.609994",
          "status": "completed"
        },
        "tags": [],
        "id": "AKU20KQqlWrz"
      }
    },
    {
      "cell_type": "markdown",
      "source": [
        "# **Saving CatBoosting Model :**"
      ],
      "metadata": {
        "papermill": {
          "duration": 0.565421,
          "end_time": "2024-05-17T21:25:08.342431",
          "exception": false,
          "start_time": "2024-05-17T21:25:07.77701",
          "status": "completed"
        },
        "tags": [],
        "id": "Lg9DmnKklWr0"
      }
    },
    {
      "cell_type": "code",
      "source": [
        "joblib.dump(CB,\"CatBoostingModel (Mall Customer Segmentation Data) FinalModel - GDSC #4 Task.sav\")"
      ],
      "metadata": {
        "execution": {
          "iopub.execute_input": "2024-05-17T21:25:09.53816Z",
          "iopub.status.busy": "2024-05-17T21:25:09.537213Z",
          "iopub.status.idle": "2024-05-17T21:25:09.545959Z",
          "shell.execute_reply": "2024-05-17T21:25:09.545121Z"
        },
        "papermill": {
          "duration": 0.627549,
          "end_time": "2024-05-17T21:25:09.547781",
          "exception": false,
          "start_time": "2024-05-17T21:25:08.920232",
          "status": "completed"
        },
        "tags": [],
        "id": "VIUCf0QElWr0"
      },
      "execution_count": null,
      "outputs": []
    }
  ]
}